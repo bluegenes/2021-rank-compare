{
 "cells": [
  {
   "cell_type": "code",
   "execution_count": 1,
   "id": "e50c8242",
   "metadata": {},
   "outputs": [],
   "source": [
    "import pandas as pd\n",
    "import seaborn as sns\n",
    "import matplotlib.pyplot as plt\n",
    "import matplotlib.ticker as mtick\n",
    "\n",
    "import sourmash\n",
    "import sourmash.lca.lca_utils as lca_utils\n",
    "import sourmash.tax.tax_utils as tax_utils\n",
    "from tqdm import tqdm\n",
    "tqdm.pandas()"
   ]
  },
  {
   "cell_type": "code",
   "execution_count": 2,
   "id": "60a52a34",
   "metadata": {},
   "outputs": [
    {
     "data": {
      "text/plain": [
       "'0.11.0'"
      ]
     },
     "execution_count": 2,
     "metadata": {},
     "output_type": "execute_result"
    }
   ],
   "source": [
    "sns.__version__"
   ]
  },
  {
   "cell_type": "code",
   "execution_count": 3,
   "id": "40f65680",
   "metadata": {},
   "outputs": [
    {
     "data": {
      "text/html": [
       "<div>\n",
       "<style scoped>\n",
       "    .dataframe tbody tr th:only-of-type {\n",
       "        vertical-align: middle;\n",
       "    }\n",
       "\n",
       "    .dataframe tbody tr th {\n",
       "        vertical-align: top;\n",
       "    }\n",
       "\n",
       "    .dataframe thead th {\n",
       "        text-align: right;\n",
       "    }\n",
       "</style>\n",
       "<table border=\"1\" class=\"dataframe\">\n",
       "  <thead>\n",
       "    <tr style=\"text-align: right;\">\n",
       "      <th></th>\n",
       "      <th>database</th>\n",
       "      <th>ksize</th>\n",
       "      <th>alphabet</th>\n",
       "      <th>alpha_ksize</th>\n",
       "      <th>scaled</th>\n",
       "      <th>rank</th>\n",
       "      <th>unique_rank_kmers</th>\n",
       "      <th>f_rank_kmers</th>\n",
       "      <th>aggregated_kmers</th>\n",
       "      <th>f_aggregated_kmers</th>\n",
       "    </tr>\n",
       "  </thead>\n",
       "  <tbody>\n",
       "    <tr>\n",
       "      <th>0</th>\n",
       "      <td>gtdb-rs202.protein.k10.lca.json.gz</td>\n",
       "      <td>10</td>\n",
       "      <td>protein</td>\n",
       "      <td>protein-k10</td>\n",
       "      <td>1000</td>\n",
       "      <td>strain</td>\n",
       "      <td>16070147</td>\n",
       "      <td>0.589554</td>\n",
       "      <td>16070147</td>\n",
       "      <td>0.589554</td>\n",
       "    </tr>\n",
       "    <tr>\n",
       "      <th>1</th>\n",
       "      <td>gtdb-rs202.protein.k10.lca.json.gz</td>\n",
       "      <td>10</td>\n",
       "      <td>protein</td>\n",
       "      <td>protein-k10</td>\n",
       "      <td>1000</td>\n",
       "      <td>species</td>\n",
       "      <td>5693636</td>\n",
       "      <td>0.208878</td>\n",
       "      <td>21763783</td>\n",
       "      <td>0.798432</td>\n",
       "    </tr>\n",
       "    <tr>\n",
       "      <th>2</th>\n",
       "      <td>gtdb-rs202.protein.k10.lca.json.gz</td>\n",
       "      <td>10</td>\n",
       "      <td>protein</td>\n",
       "      <td>protein-k10</td>\n",
       "      <td>1000</td>\n",
       "      <td>genus</td>\n",
       "      <td>3066688</td>\n",
       "      <td>0.112505</td>\n",
       "      <td>24830471</td>\n",
       "      <td>0.910938</td>\n",
       "    </tr>\n",
       "    <tr>\n",
       "      <th>3</th>\n",
       "      <td>gtdb-rs202.protein.k10.lca.json.gz</td>\n",
       "      <td>10</td>\n",
       "      <td>protein</td>\n",
       "      <td>protein-k10</td>\n",
       "      <td>1000</td>\n",
       "      <td>family</td>\n",
       "      <td>681009</td>\n",
       "      <td>0.024984</td>\n",
       "      <td>25511480</td>\n",
       "      <td>0.935921</td>\n",
       "    </tr>\n",
       "    <tr>\n",
       "      <th>4</th>\n",
       "      <td>gtdb-rs202.protein.k10.lca.json.gz</td>\n",
       "      <td>10</td>\n",
       "      <td>protein</td>\n",
       "      <td>protein-k10</td>\n",
       "      <td>1000</td>\n",
       "      <td>order</td>\n",
       "      <td>200888</td>\n",
       "      <td>0.007370</td>\n",
       "      <td>25712368</td>\n",
       "      <td>0.943291</td>\n",
       "    </tr>\n",
       "  </tbody>\n",
       "</table>\n",
       "</div>"
      ],
      "text/plain": [
       "                             database  ksize alphabet  alpha_ksize  scaled  \\\n",
       "0  gtdb-rs202.protein.k10.lca.json.gz     10  protein  protein-k10    1000   \n",
       "1  gtdb-rs202.protein.k10.lca.json.gz     10  protein  protein-k10    1000   \n",
       "2  gtdb-rs202.protein.k10.lca.json.gz     10  protein  protein-k10    1000   \n",
       "3  gtdb-rs202.protein.k10.lca.json.gz     10  protein  protein-k10    1000   \n",
       "4  gtdb-rs202.protein.k10.lca.json.gz     10  protein  protein-k10    1000   \n",
       "\n",
       "      rank  unique_rank_kmers  f_rank_kmers  aggregated_kmers  \\\n",
       "0   strain           16070147      0.589554          16070147   \n",
       "1  species            5693636      0.208878          21763783   \n",
       "2    genus            3066688      0.112505          24830471   \n",
       "3   family             681009      0.024984          25511480   \n",
       "4    order             200888      0.007370          25712368   \n",
       "\n",
       "   f_aggregated_kmers  \n",
       "0            0.589554  \n",
       "1            0.798432  \n",
       "2            0.910938  \n",
       "3            0.935921  \n",
       "4            0.943291  "
      ]
     },
     "execution_count": 3,
     "metadata": {},
     "output_type": "execute_result"
    }
   ],
   "source": [
    "# for a stacked bar plot in seaborn, need to aggregate the percentages from strain --> superk\n",
    "\n",
    "rankinfo = pd.read_csv('gtdb-rs202.rankinfo.aggregated.csv')\n",
    "rankinfo.head()"
   ]
  },
  {
   "cell_type": "code",
   "execution_count": 35,
   "id": "4cc61e0c",
   "metadata": {},
   "outputs": [
    {
     "data": {
      "text/html": [
       "<div>\n",
       "<style scoped>\n",
       "    .dataframe tbody tr th:only-of-type {\n",
       "        vertical-align: middle;\n",
       "    }\n",
       "\n",
       "    .dataframe tbody tr th {\n",
       "        vertical-align: top;\n",
       "    }\n",
       "\n",
       "    .dataframe thead th {\n",
       "        text-align: right;\n",
       "    }\n",
       "</style>\n",
       "<table border=\"1\" class=\"dataframe\">\n",
       "  <thead>\n",
       "    <tr style=\"text-align: right;\">\n",
       "      <th></th>\n",
       "      <th>database</th>\n",
       "      <th>ksize</th>\n",
       "      <th>alphabet</th>\n",
       "      <th>alpha_ksize</th>\n",
       "      <th>scaled</th>\n",
       "      <th>rank</th>\n",
       "      <th>unique_rank_kmers</th>\n",
       "      <th>f_rank_kmers</th>\n",
       "      <th>aggregated_kmers</th>\n",
       "      <th>f_aggregated_kmers</th>\n",
       "    </tr>\n",
       "  </thead>\n",
       "  <tbody>\n",
       "    <tr>\n",
       "      <th>0</th>\n",
       "      <td>gtdb-rs202.protein.k10.lca.json.gz</td>\n",
       "      <td>10</td>\n",
       "      <td>protein</td>\n",
       "      <td>protein-k10</td>\n",
       "      <td>1000</td>\n",
       "      <td>genome</td>\n",
       "      <td>16070147</td>\n",
       "      <td>0.589554</td>\n",
       "      <td>16070147</td>\n",
       "      <td>0.589554</td>\n",
       "    </tr>\n",
       "    <tr>\n",
       "      <th>1</th>\n",
       "      <td>gtdb-rs202.protein.k10.lca.json.gz</td>\n",
       "      <td>10</td>\n",
       "      <td>protein</td>\n",
       "      <td>protein-k10</td>\n",
       "      <td>1000</td>\n",
       "      <td>species</td>\n",
       "      <td>5693636</td>\n",
       "      <td>0.208878</td>\n",
       "      <td>21763783</td>\n",
       "      <td>0.798432</td>\n",
       "    </tr>\n",
       "    <tr>\n",
       "      <th>2</th>\n",
       "      <td>gtdb-rs202.protein.k10.lca.json.gz</td>\n",
       "      <td>10</td>\n",
       "      <td>protein</td>\n",
       "      <td>protein-k10</td>\n",
       "      <td>1000</td>\n",
       "      <td>genus</td>\n",
       "      <td>3066688</td>\n",
       "      <td>0.112505</td>\n",
       "      <td>24830471</td>\n",
       "      <td>0.910938</td>\n",
       "    </tr>\n",
       "    <tr>\n",
       "      <th>3</th>\n",
       "      <td>gtdb-rs202.protein.k10.lca.json.gz</td>\n",
       "      <td>10</td>\n",
       "      <td>protein</td>\n",
       "      <td>protein-k10</td>\n",
       "      <td>1000</td>\n",
       "      <td>family</td>\n",
       "      <td>681009</td>\n",
       "      <td>0.024984</td>\n",
       "      <td>25511480</td>\n",
       "      <td>0.935921</td>\n",
       "    </tr>\n",
       "    <tr>\n",
       "      <th>4</th>\n",
       "      <td>gtdb-rs202.protein.k10.lca.json.gz</td>\n",
       "      <td>10</td>\n",
       "      <td>protein</td>\n",
       "      <td>protein-k10</td>\n",
       "      <td>1000</td>\n",
       "      <td>order</td>\n",
       "      <td>200888</td>\n",
       "      <td>0.007370</td>\n",
       "      <td>25712368</td>\n",
       "      <td>0.943291</td>\n",
       "    </tr>\n",
       "  </tbody>\n",
       "</table>\n",
       "</div>"
      ],
      "text/plain": [
       "                             database  ksize alphabet  alpha_ksize  scaled  \\\n",
       "0  gtdb-rs202.protein.k10.lca.json.gz     10  protein  protein-k10    1000   \n",
       "1  gtdb-rs202.protein.k10.lca.json.gz     10  protein  protein-k10    1000   \n",
       "2  gtdb-rs202.protein.k10.lca.json.gz     10  protein  protein-k10    1000   \n",
       "3  gtdb-rs202.protein.k10.lca.json.gz     10  protein  protein-k10    1000   \n",
       "4  gtdb-rs202.protein.k10.lca.json.gz     10  protein  protein-k10    1000   \n",
       "\n",
       "      rank  unique_rank_kmers  f_rank_kmers  aggregated_kmers  \\\n",
       "0   genome           16070147      0.589554          16070147   \n",
       "1  species            5693636      0.208878          21763783   \n",
       "2    genus            3066688      0.112505          24830471   \n",
       "3   family             681009      0.024984          25511480   \n",
       "4    order             200888      0.007370          25712368   \n",
       "\n",
       "   f_aggregated_kmers  \n",
       "0            0.589554  \n",
       "1            0.798432  \n",
       "2            0.910938  \n",
       "3            0.935921  \n",
       "4            0.943291  "
      ]
     },
     "execution_count": 35,
     "metadata": {},
     "output_type": "execute_result"
    }
   ],
   "source": [
    "# replace strain with genome\n",
    "rankinfo['rank'] = rankinfo['rank'].replace({\"strain\": \"genome\"})\n",
    "rankinfo.head()"
   ]
  },
  {
   "cell_type": "code",
   "execution_count": 4,
   "id": "07534ab5",
   "metadata": {},
   "outputs": [
    {
     "data": {
      "text/plain": [
       "['genome',\n",
       " 'species',\n",
       " 'genus',\n",
       " 'family',\n",
       " 'order',\n",
       " 'class',\n",
       " 'phylum',\n",
       " 'superkingdom']"
      ]
     },
     "execution_count": 4,
     "metadata": {},
     "output_type": "execute_result"
    }
   ],
   "source": [
    "ascending_taxlist = list(tax_utils.ascending_taxlist(include_strain=False))\n",
    "ascending_taxlist = ['genome'] + ascending_taxlist\n",
    "ascending_taxlist"
   ]
  },
  {
   "cell_type": "code",
   "execution_count": 5,
   "id": "3a0f839f",
   "metadata": {},
   "outputs": [
    {
     "data": {
      "text/plain": [
       "['superkingdom',\n",
       " 'phylum',\n",
       " 'class',\n",
       " 'order',\n",
       " 'family',\n",
       " 'genus',\n",
       " 'species',\n",
       " 'genome']"
      ]
     },
     "execution_count": 5,
     "metadata": {},
     "output_type": "execute_result"
    }
   ],
   "source": [
    "taxlist = list(lca_utils.taxlist(include_strain=False))\n",
    "taxlist.append('genome')\n",
    "taxlist"
   ]
  },
  {
   "cell_type": "code",
   "execution_count": 6,
   "id": "dc967fed",
   "metadata": {},
   "outputs": [],
   "source": [
    "sns.set(style='white')"
   ]
  },
  {
   "cell_type": "code",
   "execution_count": 7,
   "id": "3595ff77",
   "metadata": {},
   "outputs": [],
   "source": [
    "rank_colors = {\"superkingdom\": \"#a1d99b\",\n",
    "               \"phylum\": \"#a1d99b\", \n",
    "               \"class\": \"#74c476\", \n",
    "               \"order\": \"#31a354\", \n",
    "               \"family\": \"#006d2c\", \n",
    "               \"genus\": \"#006d2c\",\n",
    "               \"species\":\"#9e9ac8\", \n",
    "               \"genome\": \"#756bb1\"}\n"
   ]
  },
  {
   "cell_type": "code",
   "execution_count": 8,
   "id": "cda31b52",
   "metadata": {},
   "outputs": [
    {
     "name": "stdout",
     "output_type": "stream",
     "text": [
      "['#482878', '#3e4989', '#31688e', '#26828e', '#1f9e89', '#35b779', '#6ece58', '#b5de2b']\n"
     ]
    }
   ],
   "source": [
    "colors = sns.color_palette('viridis', 8).as_hex()\n",
    "print(colors)"
   ]
  },
  {
   "cell_type": "code",
   "execution_count": 9,
   "id": "6af8ef04",
   "metadata": {},
   "outputs": [
    {
     "data": {
      "text/plain": [
       "{'genome': '#66c2a5',\n",
       " 'species': '#fc8d62',\n",
       " 'genus': '#8da0cb',\n",
       " 'family': '#e78ac3',\n",
       " 'order': '#a6d854',\n",
       " 'class': '#ffd92f',\n",
       " 'phylum': '#e5c494',\n",
       " 'superkingdom': '#b3b3b3'}"
      ]
     },
     "execution_count": 9,
     "metadata": {},
     "output_type": "execute_result"
    }
   ],
   "source": [
    "rank_colors = dict(zip(ascending_taxlist, sns.color_palette('Set2', 8).as_hex()))\n",
    "rank_colors"
   ]
  },
  {
   "cell_type": "code",
   "execution_count": 48,
   "id": "9ac5a41a",
   "metadata": {},
   "outputs": [
    {
     "data": {
      "image/png": "[encoded data removed]",
      "text/plain": [
       "<Figure size 432x216 with 2 Axes>"
      ]
     },
     "metadata": {},
     "output_type": "display_data"
    }
   ],
   "source": [
    "#data_to_plot = s1DF # select dataframe to plot with\n",
    "alphabets = ['nucleotide','protein', ]\n",
    "g = sns.FacetGrid(rankinfo, col = 'alphabet', sharex=False)# hue = 'rank', hue_order = taxlist,\n",
    "for n, ax in enumerate(g.fig.axes):\n",
    "    alpha = alphabets[n]\n",
    "    dset = rankinfo[rankinfo['alphabet'] == alpha]\n",
    "    for idx, rank in enumerate(taxlist):\n",
    "        ds = dset[dset['rank'] == rank]\n",
    "        ds.set_index('database', inplace=True)\n",
    "        #print(ds)\n",
    "        bar1 = sns.barplot(data=ds, ax=ax , x=\"ksize\",  y=\"f_aggregated_kmers\", label=rank, color=rank_colors[rank])\n",
    "    ax.yaxis.set_major_formatter(mtick.PercentFormatter(1))\n",
    "    #ax.set_title(alpha, size=12)\n",
    "    if n == 0:\n",
    "        ax.set_ylabel(\"K-mers Specific to Rank\", size=12)      \n",
    "        ax.axes.get_xaxis().set_label_text(\"nucleotide k-mer\")\n",
    "    if n == 1:\n",
    "        ax.yaxis.get_label().set_visible(False)\n",
    "        ax.axes.get_xaxis().set_label_text(\"amino acid k-mer\")\n",
    "        #ax.yaxis.set_label_text('Percent K-mers Specific at Rank')#.set_visible(False)    \n",
    "\n",
    "\n",
    "# legend\n",
    "plt.legend(bbox_to_anchor=(1.01, 1),\n",
    "           borderaxespad=0)\n",
    "#g = sns.factorplot(data=rankinfo, kind='bar', x=\"ksize\", y=\"f_aggregated_kmers\")#,multiple='stack')#, col=\"alphabet\", hue=\"rank\")#, palette=\"GnBu_d\")\n",
    "#g.set(xlim=(0, 0.55), ylim=(0, 0.55), xticks=np.arange(0, 0.60, 0.1), yticks=np.arange(0, 0.60, 0.1))\n",
    "#xlim=None\n",
    "#for ax in g.fig.axes:\n",
    "#    if not xlim:\n",
    "#        xlim =ax.get_xlim()\n",
    "#        ylim = ax.get_ylim()\n",
    "#    ax.plot(xlim, ylim, ls=\"--\", c=\".3\")\n",
    "\n",
    "g.fig.suptitle(\"Fraction of k-mers specific to taxonomic rank\", x=0.5, y=1.10, size=20)\n",
    "g.savefig(\"gtdb-rs202.lca_f_aggregated_kmers.pdf\",bbox_inches='tight')\n",
    "g.savefig(\"gtdb-rs202.lca_f_aggregated_kmers.png\",bbox_inches='tight')"
   ]
  },
  {
   "cell_type": "code",
   "execution_count": 15,
   "id": "bfe3273b",
   "metadata": {},
   "outputs": [
    {
     "data": {
      "text/plain": [
       "<AxesSubplot:xlabel='alpha_ksize', ylabel='f_rank_kmers'>"
      ]
     },
     "execution_count": 15,
     "metadata": {},
     "output_type": "execute_result"
    },
    {
     "data": {
      "image/png": "[encoded data removed]",
      "text/plain": [
       "<Figure size 720x288 with 2 Axes>"
      ]
     },
     "metadata": {},
     "output_type": "display_data"
    }
   ],
   "source": [
    "#g = sns.FacetGrid(rankinfo, col = \"alphabet\", hue = \"rank\")\n",
    "fig, axes = plt.subplots(1, 2, figsize=(10, 4))\n",
    "sns.barplot(ax=axes[0], data=rankinfo[rankinfo['alphabet']==\"protein\"], x='alpha_ksize', y='f_rank_kmers', hue='rank')\n",
    "sns.barplot(ax=axes[1], data=rankinfo[rankinfo['alphabet']==\"nucleotide\"], x='alpha_ksize', y='f_rank_kmers', hue='rank')\n",
    "\n",
    "\n",
    "#sea.map(sns.barplot, \"alpha_ksize\", \"f_rank_kmers\", alpha = .8)\n",
    "\n",
    "#fig, axs = plt.subplots(2, figsize=(7,7))\n",
    "#sns.barplot(data=rankinfo, x=\"sepal_length\", kde=True, color=\"skyblue\", ax=axs[0,1])\n"
   ]
  },
  {
   "cell_type": "code",
   "execution_count": null,
   "id": "39545848",
   "metadata": {},
   "outputs": [],
   "source": []
  },
  {
   "cell_type": "code",
   "execution_count": null,
   "id": "528529d7",
   "metadata": {},
   "outputs": [],
   "source": []
  }
 ],
 "metadata": {
  "kernelspec": {
   "display_name": "Python 3 (ipykernel)",
   "language": "python",
   "name": "python3"
  },
  "language_info": {
   "codemirror_mode": {
    "name": "ipython",
    "version": 3
   },
   "file_extension": ".py",
   "mimetype": "text/x-python",
   "name": "python",
   "nbconvert_exporter": "python",
   "pygments_lexer": "ipython3",
   "version": "3.8.12"
  }
 },
 "nbformat": 4,
 "nbformat_minor": 5
}
