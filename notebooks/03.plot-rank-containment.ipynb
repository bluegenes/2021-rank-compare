{
 "cells": [
  {
   "cell_type": "code",
   "execution_count": 2,
   "id": "c76c2be5",
   "metadata": {},
   "outputs": [],
   "source": [
    "import pandas as pd\n",
    "import seaborn as sns\n",
    "import sourmash\n",
    "import sourmash.lca.lca_utils as lca_utils\n",
    "import sourmash.tax.tax_utils as tax_utils\n",
    "from tqdm import tqdm\n",
    "tqdm.pandas()"
   ]
  },
  {
   "cell_type": "code",
   "execution_count": 12,
   "id": "cbb6be22",
   "metadata": {},
   "outputs": [
    {
     "data": {
      "text/plain": [
       "['species', 'genus', 'family', 'order', 'class', 'phylum']"
      ]
     },
     "execution_count": 12,
     "metadata": {},
     "output_type": "execute_result"
    }
   ],
   "source": [
    "ascending_taxlist = list(tax_utils.ascending_taxlist(include_strain=False))[:-1]\n",
    "ascending_taxlist"
   ]
  },
  {
   "cell_type": "code",
   "execution_count": 3,
   "id": "fe667acf",
   "metadata": {},
   "outputs": [],
   "source": [
    "#gtdb_taxonomy = pd.read_csv('gtdb-rs202.taxonomy.v2.with-strain.csv')\n",
    "#gtdb_taxonomy"
   ]
  },
  {
   "cell_type": "code",
   "execution_count": 4,
   "id": "347d4486",
   "metadata": {},
   "outputs": [
    {
     "data": {
      "text/html": [
       "<div>\n",
       "<style scoped>\n",
       "    .dataframe tbody tr th:only-of-type {\n",
       "        vertical-align: middle;\n",
       "    }\n",
       "\n",
       "    .dataframe tbody tr th {\n",
       "        vertical-align: top;\n",
       "    }\n",
       "\n",
       "    .dataframe thead th {\n",
       "        text-align: right;\n",
       "    }\n",
       "</style>\n",
       "<table border=\"1\" class=\"dataframe\">\n",
       "  <thead>\n",
       "    <tr style=\"text-align: right;\">\n",
       "      <th></th>\n",
       "      <th>Unnamed: 0</th>\n",
       "      <th>g1</th>\n",
       "      <th>g2</th>\n",
       "      <th>similarity</th>\n",
       "      <th>max_containment</th>\n",
       "      <th>lca_rank</th>\n",
       "      <th>lca_lin</th>\n",
       "    </tr>\n",
       "  </thead>\n",
       "  <tbody>\n",
       "    <tr>\n",
       "      <th>0</th>\n",
       "      <td>0</td>\n",
       "      <td>GCA_002084765.1</td>\n",
       "      <td>GCA_002084765.1</td>\n",
       "      <td>0.000000</td>\n",
       "      <td>1.000000</td>\n",
       "      <td>species</td>\n",
       "      <td>d__Bacteria;p__4572-55;c__4572-55;o__4572-55;f...</td>\n",
       "    </tr>\n",
       "    <tr>\n",
       "      <th>1</th>\n",
       "      <td>1</td>\n",
       "      <td>GCA_003697105.1</td>\n",
       "      <td>GCA_003697105.1</td>\n",
       "      <td>0.000000</td>\n",
       "      <td>1.000000</td>\n",
       "      <td>species</td>\n",
       "      <td>d__Bacteria;p__4572-55;c__4572-55;o__J002;f__J...</td>\n",
       "    </tr>\n",
       "    <tr>\n",
       "      <th>2</th>\n",
       "      <td>2</td>\n",
       "      <td>GCA_002084765.1</td>\n",
       "      <td>GCA_003697105.1</td>\n",
       "      <td>0.005815</td>\n",
       "      <td>0.008694</td>\n",
       "      <td>class</td>\n",
       "      <td>d__Bacteria;p__4572-55;c__4572-55</td>\n",
       "    </tr>\n",
       "    <tr>\n",
       "      <th>3</th>\n",
       "      <td>4</td>\n",
       "      <td>GCA_013202285.1</td>\n",
       "      <td>GCA_013202315.1</td>\n",
       "      <td>0.004995</td>\n",
       "      <td>0.007092</td>\n",
       "      <td>phylum</td>\n",
       "      <td>d__Bacteria;p__AABM5-125-24</td>\n",
       "    </tr>\n",
       "    <tr>\n",
       "      <th>4</th>\n",
       "      <td>5</td>\n",
       "      <td>GCA_003818605.1</td>\n",
       "      <td>GCA_013202285.1</td>\n",
       "      <td>0.003438</td>\n",
       "      <td>0.005674</td>\n",
       "      <td>phylum</td>\n",
       "      <td>d__Bacteria;p__AABM5-125-24</td>\n",
       "    </tr>\n",
       "    <tr>\n",
       "      <th>...</th>\n",
       "      <td>...</td>\n",
       "      <td>...</td>\n",
       "      <td>...</td>\n",
       "      <td>...</td>\n",
       "      <td>...</td>\n",
       "      <td>...</td>\n",
       "      <td>...</td>\n",
       "    </tr>\n",
       "    <tr>\n",
       "      <th>18311089</th>\n",
       "      <td>18311251</td>\n",
       "      <td>GCA_003520965.1</td>\n",
       "      <td>GCA_008501655.1</td>\n",
       "      <td>0.005957</td>\n",
       "      <td>0.010126</td>\n",
       "      <td>class</td>\n",
       "      <td>d__Bacteria;p__Zixibacteria;c__MSB-5A5</td>\n",
       "    </tr>\n",
       "    <tr>\n",
       "      <th>18311090</th>\n",
       "      <td>18311252</td>\n",
       "      <td>GCA_012517955.1</td>\n",
       "      <td>GCA_903827795.1</td>\n",
       "      <td>0.008479</td>\n",
       "      <td>0.014914</td>\n",
       "      <td>class</td>\n",
       "      <td>d__Bacteria;p__Zixibacteria;c__MSB-5A5</td>\n",
       "    </tr>\n",
       "    <tr>\n",
       "      <th>18311091</th>\n",
       "      <td>18311253</td>\n",
       "      <td>GCA_903823345.1</td>\n",
       "      <td>GCF_900498245.1</td>\n",
       "      <td>0.013791</td>\n",
       "      <td>0.020692</td>\n",
       "      <td>class</td>\n",
       "      <td>d__Bacteria;p__Zixibacteria;c__MSB-5A5</td>\n",
       "    </tr>\n",
       "    <tr>\n",
       "      <th>18311092</th>\n",
       "      <td>18311254</td>\n",
       "      <td>GCA_903823345.1</td>\n",
       "      <td>GCA_903921635.1</td>\n",
       "      <td>0.850266</td>\n",
       "      <td>0.987619</td>\n",
       "      <td>species</td>\n",
       "      <td>d__Bacteria;p__Zixibacteria;c__MSB-5A5;o__CAIY...</td>\n",
       "    </tr>\n",
       "    <tr>\n",
       "      <th>18311093</th>\n",
       "      <td>18311255</td>\n",
       "      <td>GCA_003520965.1</td>\n",
       "      <td>GCA_011040955.1</td>\n",
       "      <td>0.007277</td>\n",
       "      <td>0.010022</td>\n",
       "      <td>class</td>\n",
       "      <td>d__Bacteria;p__Zixibacteria;c__MSB-5A5</td>\n",
       "    </tr>\n",
       "  </tbody>\n",
       "</table>\n",
       "<p>18311094 rows × 7 columns</p>\n",
       "</div>"
      ],
      "text/plain": [
       "          Unnamed: 0               g1               g2  similarity  \\\n",
       "0                  0  GCA_002084765.1  GCA_002084765.1    0.000000   \n",
       "1                  1  GCA_003697105.1  GCA_003697105.1    0.000000   \n",
       "2                  2  GCA_002084765.1  GCA_003697105.1    0.005815   \n",
       "3                  4  GCA_013202285.1  GCA_013202315.1    0.004995   \n",
       "4                  5  GCA_003818605.1  GCA_013202285.1    0.003438   \n",
       "...              ...              ...              ...         ...   \n",
       "18311089    18311251  GCA_003520965.1  GCA_008501655.1    0.005957   \n",
       "18311090    18311252  GCA_012517955.1  GCA_903827795.1    0.008479   \n",
       "18311091    18311253  GCA_903823345.1  GCF_900498245.1    0.013791   \n",
       "18311092    18311254  GCA_903823345.1  GCA_903921635.1    0.850266   \n",
       "18311093    18311255  GCA_003520965.1  GCA_011040955.1    0.007277   \n",
       "\n",
       "          max_containment lca_rank  \\\n",
       "0                1.000000  species   \n",
       "1                1.000000  species   \n",
       "2                0.008694    class   \n",
       "3                0.007092   phylum   \n",
       "4                0.005674   phylum   \n",
       "...                   ...      ...   \n",
       "18311089         0.010126    class   \n",
       "18311090         0.014914    class   \n",
       "18311091         0.020692    class   \n",
       "18311092         0.987619  species   \n",
       "18311093         0.010022    class   \n",
       "\n",
       "                                                    lca_lin  \n",
       "0         d__Bacteria;p__4572-55;c__4572-55;o__4572-55;f...  \n",
       "1         d__Bacteria;p__4572-55;c__4572-55;o__J002;f__J...  \n",
       "2                         d__Bacteria;p__4572-55;c__4572-55  \n",
       "3                               d__Bacteria;p__AABM5-125-24  \n",
       "4                               d__Bacteria;p__AABM5-125-24  \n",
       "...                                                     ...  \n",
       "18311089             d__Bacteria;p__Zixibacteria;c__MSB-5A5  \n",
       "18311090             d__Bacteria;p__Zixibacteria;c__MSB-5A5  \n",
       "18311091             d__Bacteria;p__Zixibacteria;c__MSB-5A5  \n",
       "18311092  d__Bacteria;p__Zixibacteria;c__MSB-5A5;o__CAIY...  \n",
       "18311093             d__Bacteria;p__Zixibacteria;c__MSB-5A5  \n",
       "\n",
       "[18311094 rows x 7 columns]"
      ]
     },
     "execution_count": 4,
     "metadata": {},
     "output_type": "execute_result"
    }
   ],
   "source": [
    "phylum_compare = pd.read_csv('gtdb-rs202.most-phyla.compare.with-lineages.csv')\n",
    "phylum_compare"
   ]
  },
  {
   "cell_type": "code",
   "execution_count": 7,
   "id": "09fd1c5f",
   "metadata": {},
   "outputs": [
    {
     "data": {
      "text/plain": [
       "(18284460, 7)"
      ]
     },
     "execution_count": 7,
     "metadata": {},
     "output_type": "execute_result"
    }
   ],
   "source": [
    "pcomp = phylum_compare.query(\"g1 != g2\")\n",
    "pcomp.shape"
   ]
  },
  {
   "cell_type": "code",
   "execution_count": 13,
   "id": "6abfa08e",
   "metadata": {},
   "outputs": [
    {
     "data": {
      "image/png": "[encoded data removed]",
      "text/plain": [
       "<Figure size 360x360 with 1 Axes>"
      ]
     },
     "metadata": {
      "needs_background": "light"
     },
     "output_type": "display_data"
    }
   ],
   "source": [
    "g = sns.catplot(data=pcomp, x=\"lca_rank\", y=\"max_containment\", order=ascending_taxlist)"
   ]
  },
  {
   "cell_type": "code",
   "execution_count": 14,
   "id": "78a7cba1",
   "metadata": {},
   "outputs": [
    {
     "data": {
      "image/png": "[encoded data removed]",
      "text/plain": [
       "<Figure size 360x360 with 1 Axes>"
      ]
     },
     "metadata": {
      "needs_background": "light"
     },
     "output_type": "display_data"
    }
   ],
   "source": [
    "g = sns.catplot(data=pcomp, x=\"lca_rank\", y=\"similarity\", order=ascending_taxlist)"
   ]
  },
  {
   "cell_type": "code",
   "execution_count": 15,
   "id": "86a67ac4",
   "metadata": {},
   "outputs": [
    {
     "data": {
      "image/png": "[encoded data removed]",
      "text/plain": [
       "<Figure size 432x288 with 1 Axes>"
      ]
     },
     "metadata": {
      "needs_background": "light"
     },
     "output_type": "display_data"
    }
   ],
   "source": [
    "g = sns.boxenplot(data=pcomp, x=\"lca_rank\", y=\"max_containment\", order=ascending_taxlist)"
   ]
  },
  {
   "cell_type": "code",
   "execution_count": null,
   "id": "f3d92f43",
   "metadata": {},
   "outputs": [],
   "source": []
  }
 ],
 "metadata": {
  "kernelspec": {
   "display_name": "Python 3 (ipykernel)",
   "language": "python",
   "name": "python3"
  },
  "language_info": {
   "codemirror_mode": {
    "name": "ipython",
    "version": 3
   },
   "file_extension": ".py",
   "mimetype": "text/x-python",
   "name": "python",
   "nbconvert_exporter": "python",
   "pygments_lexer": "ipython3",
   "version": "3.8.12"
  }
 },
 "nbformat": 4,
 "nbformat_minor": 5
}
