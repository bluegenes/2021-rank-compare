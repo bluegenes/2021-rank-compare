{
 "cells": [
  {
   "cell_type": "code",
   "execution_count": 10,
   "id": "ef0644ca",
   "metadata": {},
   "outputs": [],
   "source": [
    "import os\n",
    "import glob\n",
    "import pandas as pd\n",
    "import seaborn as sns\n",
    "import matplotlib.pyplot as plt\n",
    "import matplotlib.ticker as ticker\n",
    "\n",
    "import sourmash\n",
    "import sourmash.lca.lca_utils as lca_utils\n",
    "import sourmash.tax.tax_utils as tax_utils\n",
    "from tqdm import tqdm\n",
    "tqdm.pandas()\n",
    "\n",
    "from collections import Counter"
   ]
  },
  {
   "cell_type": "code",
   "execution_count": 2,
   "id": "ef628046",
   "metadata": {},
   "outputs": [
    {
     "data": {
      "text/html": [
       "<div>\n",
       "<style scoped>\n",
       "    .dataframe tbody tr th:only-of-type {\n",
       "        vertical-align: middle;\n",
       "    }\n",
       "\n",
       "    .dataframe tbody tr th {\n",
       "        vertical-align: top;\n",
       "    }\n",
       "\n",
       "    .dataframe thead th {\n",
       "        text-align: right;\n",
       "    }\n",
       "</style>\n",
       "<table border=\"1\" class=\"dataframe\">\n",
       "  <thead>\n",
       "    <tr style=\"text-align: right;\">\n",
       "      <th></th>\n",
       "      <th>ident</th>\n",
       "      <th>superkingdom</th>\n",
       "      <th>phylum</th>\n",
       "      <th>class</th>\n",
       "      <th>order</th>\n",
       "      <th>family</th>\n",
       "      <th>genus</th>\n",
       "      <th>species</th>\n",
       "      <th>strain</th>\n",
       "    </tr>\n",
       "  </thead>\n",
       "  <tbody>\n",
       "    <tr>\n",
       "      <th>0</th>\n",
       "      <td>GCF_014075335.1</td>\n",
       "      <td>d__Bacteria</td>\n",
       "      <td>p__Proteobacteria</td>\n",
       "      <td>c__Gammaproteobacteria</td>\n",
       "      <td>o__Enterobacterales</td>\n",
       "      <td>f__Enterobacteriaceae</td>\n",
       "      <td>g__Escherichia</td>\n",
       "      <td>s__Escherichia flexneri</td>\n",
       "      <td>GCF_014075335.1</td>\n",
       "    </tr>\n",
       "    <tr>\n",
       "      <th>1</th>\n",
       "      <td>GCF_002310555.1</td>\n",
       "      <td>d__Bacteria</td>\n",
       "      <td>p__Proteobacteria</td>\n",
       "      <td>c__Gammaproteobacteria</td>\n",
       "      <td>o__Enterobacterales</td>\n",
       "      <td>f__Enterobacteriaceae</td>\n",
       "      <td>g__Escherichia</td>\n",
       "      <td>s__Escherichia flexneri</td>\n",
       "      <td>GCF_002310555.1</td>\n",
       "    </tr>\n",
       "    <tr>\n",
       "      <th>2</th>\n",
       "      <td>GCF_900013275.1</td>\n",
       "      <td>d__Bacteria</td>\n",
       "      <td>p__Proteobacteria</td>\n",
       "      <td>c__Gammaproteobacteria</td>\n",
       "      <td>o__Enterobacterales</td>\n",
       "      <td>f__Enterobacteriaceae</td>\n",
       "      <td>g__Escherichia</td>\n",
       "      <td>s__Escherichia flexneri</td>\n",
       "      <td>GCF_900013275.1</td>\n",
       "    </tr>\n",
       "    <tr>\n",
       "      <th>3</th>\n",
       "      <td>GCF_000168095.1</td>\n",
       "      <td>d__Bacteria</td>\n",
       "      <td>p__Proteobacteria</td>\n",
       "      <td>c__Gammaproteobacteria</td>\n",
       "      <td>o__Enterobacterales</td>\n",
       "      <td>f__Enterobacteriaceae</td>\n",
       "      <td>g__Escherichia</td>\n",
       "      <td>s__Escherichia flexneri</td>\n",
       "      <td>GCF_000168095.1</td>\n",
       "    </tr>\n",
       "    <tr>\n",
       "      <th>4</th>\n",
       "      <td>GCF_002459845.1</td>\n",
       "      <td>d__Bacteria</td>\n",
       "      <td>p__Proteobacteria</td>\n",
       "      <td>c__Gammaproteobacteria</td>\n",
       "      <td>o__Enterobacterales</td>\n",
       "      <td>f__Enterobacteriaceae</td>\n",
       "      <td>g__Escherichia</td>\n",
       "      <td>s__Escherichia flexneri</td>\n",
       "      <td>GCF_002459845.1</td>\n",
       "    </tr>\n",
       "  </tbody>\n",
       "</table>\n",
       "</div>"
      ],
      "text/plain": [
       "             ident superkingdom             phylum                   class  \\\n",
       "0  GCF_014075335.1  d__Bacteria  p__Proteobacteria  c__Gammaproteobacteria   \n",
       "1  GCF_002310555.1  d__Bacteria  p__Proteobacteria  c__Gammaproteobacteria   \n",
       "2  GCF_900013275.1  d__Bacteria  p__Proteobacteria  c__Gammaproteobacteria   \n",
       "3  GCF_000168095.1  d__Bacteria  p__Proteobacteria  c__Gammaproteobacteria   \n",
       "4  GCF_002459845.1  d__Bacteria  p__Proteobacteria  c__Gammaproteobacteria   \n",
       "\n",
       "                 order                 family           genus  \\\n",
       "0  o__Enterobacterales  f__Enterobacteriaceae  g__Escherichia   \n",
       "1  o__Enterobacterales  f__Enterobacteriaceae  g__Escherichia   \n",
       "2  o__Enterobacterales  f__Enterobacteriaceae  g__Escherichia   \n",
       "3  o__Enterobacterales  f__Enterobacteriaceae  g__Escherichia   \n",
       "4  o__Enterobacterales  f__Enterobacteriaceae  g__Escherichia   \n",
       "\n",
       "                   species           strain  \n",
       "0  s__Escherichia flexneri  GCF_014075335.1  \n",
       "1  s__Escherichia flexneri  GCF_002310555.1  \n",
       "2  s__Escherichia flexneri  GCF_900013275.1  \n",
       "3  s__Escherichia flexneri  GCF_000168095.1  \n",
       "4  s__Escherichia flexneri  GCF_002459845.1  "
      ]
     },
     "execution_count": 2,
     "metadata": {},
     "output_type": "execute_result"
    }
   ],
   "source": [
    "tax = pd.read_csv('gtdb-rs202.taxonomy.v2.with-strain.csv')\n",
    "tax.head()"
   ]
  },
  {
   "cell_type": "code",
   "execution_count": 8,
   "id": "b9236326",
   "metadata": {},
   "outputs": [
    {
     "data": {
      "text/html": [
       "<div>\n",
       "<style scoped>\n",
       "    .dataframe tbody tr th:only-of-type {\n",
       "        vertical-align: middle;\n",
       "    }\n",
       "\n",
       "    .dataframe tbody tr th {\n",
       "        vertical-align: top;\n",
       "    }\n",
       "\n",
       "    .dataframe thead th {\n",
       "        text-align: right;\n",
       "    }\n",
       "</style>\n",
       "<table border=\"1\" class=\"dataframe\">\n",
       "  <thead>\n",
       "    <tr style=\"text-align: right;\">\n",
       "      <th></th>\n",
       "      <th>ident</th>\n",
       "      <th>superkingdom</th>\n",
       "      <th>phylum</th>\n",
       "      <th>class</th>\n",
       "      <th>order</th>\n",
       "      <th>family</th>\n",
       "      <th>genus</th>\n",
       "      <th>species</th>\n",
       "      <th>strain</th>\n",
       "      <th>lin</th>\n",
       "    </tr>\n",
       "  </thead>\n",
       "  <tbody>\n",
       "    <tr>\n",
       "      <th>0</th>\n",
       "      <td>GCF_014075335.1</td>\n",
       "      <td>d__Bacteria</td>\n",
       "      <td>p__Proteobacteria</td>\n",
       "      <td>c__Gammaproteobacteria</td>\n",
       "      <td>o__Enterobacterales</td>\n",
       "      <td>f__Enterobacteriaceae</td>\n",
       "      <td>g__Escherichia</td>\n",
       "      <td>s__Escherichia flexneri</td>\n",
       "      <td>GCF_014075335.1</td>\n",
       "      <td>d__Bacteria;p__Proteobacteria;c__Gammaproteoba...</td>\n",
       "    </tr>\n",
       "    <tr>\n",
       "      <th>1</th>\n",
       "      <td>GCF_002310555.1</td>\n",
       "      <td>d__Bacteria</td>\n",
       "      <td>p__Proteobacteria</td>\n",
       "      <td>c__Gammaproteobacteria</td>\n",
       "      <td>o__Enterobacterales</td>\n",
       "      <td>f__Enterobacteriaceae</td>\n",
       "      <td>g__Escherichia</td>\n",
       "      <td>s__Escherichia flexneri</td>\n",
       "      <td>GCF_002310555.1</td>\n",
       "      <td>d__Bacteria;p__Proteobacteria;c__Gammaproteoba...</td>\n",
       "    </tr>\n",
       "    <tr>\n",
       "      <th>2</th>\n",
       "      <td>GCF_900013275.1</td>\n",
       "      <td>d__Bacteria</td>\n",
       "      <td>p__Proteobacteria</td>\n",
       "      <td>c__Gammaproteobacteria</td>\n",
       "      <td>o__Enterobacterales</td>\n",
       "      <td>f__Enterobacteriaceae</td>\n",
       "      <td>g__Escherichia</td>\n",
       "      <td>s__Escherichia flexneri</td>\n",
       "      <td>GCF_900013275.1</td>\n",
       "      <td>d__Bacteria;p__Proteobacteria;c__Gammaproteoba...</td>\n",
       "    </tr>\n",
       "    <tr>\n",
       "      <th>3</th>\n",
       "      <td>GCF_000168095.1</td>\n",
       "      <td>d__Bacteria</td>\n",
       "      <td>p__Proteobacteria</td>\n",
       "      <td>c__Gammaproteobacteria</td>\n",
       "      <td>o__Enterobacterales</td>\n",
       "      <td>f__Enterobacteriaceae</td>\n",
       "      <td>g__Escherichia</td>\n",
       "      <td>s__Escherichia flexneri</td>\n",
       "      <td>GCF_000168095.1</td>\n",
       "      <td>d__Bacteria;p__Proteobacteria;c__Gammaproteoba...</td>\n",
       "    </tr>\n",
       "    <tr>\n",
       "      <th>4</th>\n",
       "      <td>GCF_002459845.1</td>\n",
       "      <td>d__Bacteria</td>\n",
       "      <td>p__Proteobacteria</td>\n",
       "      <td>c__Gammaproteobacteria</td>\n",
       "      <td>o__Enterobacterales</td>\n",
       "      <td>f__Enterobacteriaceae</td>\n",
       "      <td>g__Escherichia</td>\n",
       "      <td>s__Escherichia flexneri</td>\n",
       "      <td>GCF_002459845.1</td>\n",
       "      <td>d__Bacteria;p__Proteobacteria;c__Gammaproteoba...</td>\n",
       "    </tr>\n",
       "  </tbody>\n",
       "</table>\n",
       "</div>"
      ],
      "text/plain": [
       "             ident superkingdom             phylum                   class  \\\n",
       "0  GCF_014075335.1  d__Bacteria  p__Proteobacteria  c__Gammaproteobacteria   \n",
       "1  GCF_002310555.1  d__Bacteria  p__Proteobacteria  c__Gammaproteobacteria   \n",
       "2  GCF_900013275.1  d__Bacteria  p__Proteobacteria  c__Gammaproteobacteria   \n",
       "3  GCF_000168095.1  d__Bacteria  p__Proteobacteria  c__Gammaproteobacteria   \n",
       "4  GCF_002459845.1  d__Bacteria  p__Proteobacteria  c__Gammaproteobacteria   \n",
       "\n",
       "                 order                 family           genus  \\\n",
       "0  o__Enterobacterales  f__Enterobacteriaceae  g__Escherichia   \n",
       "1  o__Enterobacterales  f__Enterobacteriaceae  g__Escherichia   \n",
       "2  o__Enterobacterales  f__Enterobacteriaceae  g__Escherichia   \n",
       "3  o__Enterobacterales  f__Enterobacteriaceae  g__Escherichia   \n",
       "4  o__Enterobacterales  f__Enterobacteriaceae  g__Escherichia   \n",
       "\n",
       "                   species           strain  \\\n",
       "0  s__Escherichia flexneri  GCF_014075335.1   \n",
       "1  s__Escherichia flexneri  GCF_002310555.1   \n",
       "2  s__Escherichia flexneri  GCF_900013275.1   \n",
       "3  s__Escherichia flexneri  GCF_000168095.1   \n",
       "4  s__Escherichia flexneri  GCF_002459845.1   \n",
       "\n",
       "                                                 lin  \n",
       "0  d__Bacteria;p__Proteobacteria;c__Gammaproteoba...  \n",
       "1  d__Bacteria;p__Proteobacteria;c__Gammaproteoba...  \n",
       "2  d__Bacteria;p__Proteobacteria;c__Gammaproteoba...  \n",
       "3  d__Bacteria;p__Proteobacteria;c__Gammaproteoba...  \n",
       "4  d__Bacteria;p__Proteobacteria;c__Gammaproteoba...  "
      ]
     },
     "execution_count": 8,
     "metadata": {},
     "output_type": "execute_result"
    }
   ],
   "source": [
    "tax[\"lin\"] = tax['superkingdom'] + ';' \\\n",
    "           + tax['phylum'] + ';' \\\n",
    "           + tax['class'] + ';' \\\n",
    "           + tax['order'] + ';' \\\n",
    "            + tax['family'] + ';' \\\n",
    "               + tax['genus'] + ';'\\\n",
    "            + tax['species'] + ';' \\\n",
    "            + tax['strain']\n",
    "tax.head()"
   ]
  },
  {
   "cell_type": "code",
   "execution_count": 32,
   "id": "06014328",
   "metadata": {},
   "outputs": [
    {
     "data": {
      "text/plain": [
       "'d__Bacteria;p__Proteobacteria;c__Gammaproteobacteria;o__Enterobacterales;f__Enterobacteriaceae;g__Escherichia;s__Escherichia flexneri;GCF_014075335.1'"
      ]
     },
     "execution_count": 32,
     "metadata": {},
     "output_type": "execute_result"
    }
   ],
   "source": [
    "all_lins = tax[\"lin\"]\n",
    "smashlin = all_lins[:1].tolist()[0]\n",
    "smashlin\n"
   ]
  },
  {
   "cell_type": "code",
   "execution_count": 34,
   "id": "8d029c81",
   "metadata": {},
   "outputs": [
    {
     "name": "stdout",
     "output_type": "stream",
     "text": [
      "(LineagePair(rank='superkingdom', name='d__Bacteria'), LineagePair(rank='phylum', name='p__Proteobacteria'), LineagePair(rank='class', name='c__Gammaproteobacteria'), LineagePair(rank='order', name='o__Enterobacterales'), LineagePair(rank='family', name='f__Enterobacteriaceae'), LineagePair(rank='genus', name='g__Escherichia'), LineagePair(rank='species', name='s__Escherichia flexneri'), LineagePair(rank='strain', name='GCF_014075335.1'))\n"
     ]
    }
   ],
   "source": [
    "sml = lca_utils.make_lineage(smashlin)\n",
    "print(sml)"
   ]
  },
  {
   "cell_type": "code",
   "execution_count": 30,
   "id": "7839d549",
   "metadata": {},
   "outputs": [],
   "source": [
    "# count occurrence of each lineage at each rank\n",
    "linC = Counter()\n",
    "for lin in all_lins:\n",
    "    smashlin = lca_utils.make_lineage(lin)\n",
    "    for rank in tax_utils.ascending_taxlist(include_strain=True):\n",
    "        rank_lin = lca_utils.pop_to_rank(smashlin, rank)\n",
    "        linC[rank_lin] +=1"
   ]
  },
  {
   "cell_type": "code",
   "execution_count": 31,
   "id": "f13ebfd6",
   "metadata": {},
   "outputs": [
    {
     "data": {
      "text/plain": [
       "[((LineagePair(rank='superkingdom', name='d__Bacteria'),), 254090),\n",
       " ((LineagePair(rank='superkingdom', name='d__Bacteria'),\n",
       "   LineagePair(rank='phylum', name='p__Proteobacteria')),\n",
       "  120757)]"
      ]
     },
     "execution_count": 31,
     "metadata": {},
     "output_type": "execute_result"
    }
   ],
   "source": [
    "linC.most_common(2)"
   ]
  },
  {
   "cell_type": "code",
   "execution_count": 35,
   "id": "2d1419e0",
   "metadata": {},
   "outputs": [
    {
     "data": {
      "text/plain": [
       "1"
      ]
     },
     "execution_count": 35,
     "metadata": {},
     "output_type": "execute_result"
    }
   ],
   "source": [
    "linC[sml]"
   ]
  },
  {
   "cell_type": "code",
   "execution_count": null,
   "id": "e32b6283",
   "metadata": {},
   "outputs": [],
   "source": []
  }
 ],
 "metadata": {
  "kernelspec": {
   "display_name": "Python 3 (ipykernel)",
   "language": "python",
   "name": "python3"
  },
  "language_info": {
   "codemirror_mode": {
    "name": "ipython",
    "version": 3
   },
   "file_extension": ".py",
   "mimetype": "text/x-python",
   "name": "python",
   "nbconvert_exporter": "python",
   "pygments_lexer": "ipython3",
   "version": "3.8.12"
  }
 },
 "nbformat": 4,
 "nbformat_minor": 5
}
